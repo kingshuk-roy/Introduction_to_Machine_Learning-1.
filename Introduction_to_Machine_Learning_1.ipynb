{
  "nbformat": 4,
  "nbformat_minor": 0,
  "metadata": {
    "colab": {
      "provenance": []
    },
    "kernelspec": {
      "name": "python3",
      "display_name": "Python 3"
    },
    "language_info": {
      "name": "python"
    }
  },
  "cells": [
    {
      "cell_type": "code",
      "execution_count": 7,
      "metadata": {
        "id": "dTU6vYoPKXsQ",
        "colab": {
          "base_uri": "https://localhost:8080/",
          "height": 70
        },
        "outputId": "815739b1-dffc-40f8-d725-815a71cc281b"
      },
      "outputs": [
        {
          "output_type": "execute_result",
          "data": {
            "text/plain": [
              "'Deep learning is a machine learning technique that teaches computers to do what comes naturally to humans: learn by example.\\n Deep learning is a key technology behind driverless cars, enabling them to recognize a stop sign, or to distinguish a pedestrian from a lamppost.\\n\\n example: Virtual assistants, Self-driving cars, Chatbots'"
            ],
            "application/vnd.google.colaboratory.intrinsic+json": {
              "type": "string"
            }
          },
          "metadata": {},
          "execution_count": 7
        }
      ],
      "source": [
        "# Q1: Explain the following with an example.\n",
        "\n",
        "# 1.Artificial Intelligence:\n",
        "''' The theory and development of computer systems able to perform tasks that normally require human intelligence,\n",
        "such as visual perception, speech recognition, decision-making, and translation between languages.\n",
        "\n",
        "example: Manufacturing robots,Self-driving cars,Smart assistants.'''\n",
        "\n",
        "# 2.Machine Learning:\n",
        "'''Machine learning algorithms use historical data as input to predict new output values. Recommendation engines are a common use case for machine learning.\n",
        " Other popular uses include fraud detection, spam filtering, malware threat detection, business process automation (BPA) and Predictive maintenance.\n",
        "\n",
        " example: Recomendation System,Spam Filtering'''\n",
        "# 3.Deep Learning:\n",
        "'''Deep learning is a machine learning technique that teaches computers to do what comes naturally to humans: learn by example.\n",
        " Deep learning is a key technology behind driverless cars, enabling them to recognize a stop sign, or to distinguish a pedestrian from a lamppost.\n",
        "\n",
        " example: Virtual assistants, Self-driving cars, Chatbots'''\n"
      ]
    },
    {
      "cell_type": "code",
      "source": [
        "# Q2:What is Supervised learning?List some examples of supervised learning.\n",
        "\n",
        "'''Supervised learning is the types of machine learning in which machines are trained using well \"labelled\" training data, and on basis of that data,\n",
        " machines predict the output. The labelled data means some input data is already tagged with the correct output.\n",
        "\n",
        "In supervised learning, the training data provided to the machines work as the supervisor that teaches the machines to predict the output correctly.\n",
        "It applies the same concept as a student learns in the supervision of the teacher.\n",
        "\n",
        "Supervised learning is a process of providing input data as well as correct output data to the machine learning model.\n",
        " The aim of a supervised learning algorithm is to find a mapping function to map the input variable(x) with the output variable(y).\n",
        "\n",
        "In the real-world, supervised learning can be used for Risk Assessment, Image classification, Fraud Detection, spam filtering, etc.'''"
      ],
      "metadata": {
        "id": "KNwFX95lMhsG",
        "colab": {
          "base_uri": "https://localhost:8080/",
          "height": 122
        },
        "outputId": "894dd5a4-d5fc-4d60-f18b-b571892eaedb"
      },
      "execution_count": 8,
      "outputs": [
        {
          "output_type": "execute_result",
          "data": {
            "text/plain": [
              "'Supervised learning is the types of machine learning in which machines are trained using well \"labelled\" training data, and on basis of that data,\\n machines predict the output. The labelled data means some input data is already tagged with the correct output.\\n\\nIn supervised learning, the training data provided to the machines work as the supervisor that teaches the machines to predict the output correctly.\\nIt applies the same concept as a student learns in the supervision of the teacher.\\n\\nSupervised learning is a process of providing input data as well as correct output data to the machine learning model.\\n The aim of a supervised learning algorithm is to find a mapping function to map the input variable(x) with the output variable(y).\\n\\nIn the real-world, supervised learning can be used for Risk Assessment, Image classification, Fraud Detection, spam filtering, etc.'"
            ],
            "application/vnd.google.colaboratory.intrinsic+json": {
              "type": "string"
            }
          },
          "metadata": {},
          "execution_count": 8
        }
      ]
    },
    {
      "cell_type": "code",
      "source": [
        "# Q3:What is Unsupervised learning?List some examples of Usupervised learning.\n",
        "\n",
        "'''\n",
        "As the name suggests, unsupervised learning is a machine learning technique in which models are not supervised using training dataset.\n",
        "Instead, models itself find the hidden patterns and insights from the given data.\n",
        "It can be compared to learning which takes place in the human brain while learning new things.\n",
        "\n",
        "It can be defined as:\n",
        "Unsupervised learning is a type of machine learning in which models are trained using unlabeled dataset and are allowed to act on that data without any supervision.\n",
        "\n",
        "Unsupervised learning cannot be directly applied to a regression or classification problem because unlike supervised learning,\n",
        "we have the input data but no corresponding output data. The goal of unsupervised learning is to find the underlying structure of dataset,\n",
        "group that data according to similarities, and represent that dataset in a compressed format.'''"
      ],
      "metadata": {
        "id": "K2lgd_CCNLIY",
        "colab": {
          "base_uri": "https://localhost:8080/",
          "height": 122
        },
        "outputId": "5ce7b170-fe06-49f2-ce48-8b227bdf439d"
      },
      "execution_count": 9,
      "outputs": [
        {
          "output_type": "execute_result",
          "data": {
            "text/plain": [
              "'\\nAs the name suggests, unsupervised learning is a machine learning technique in which models are not supervised using training dataset.\\nInstead, models itself find the hidden patterns and insights from the given data.\\nIt can be compared to learning which takes place in the human brain while learning new things.\\n\\nIt can be defined as:\\nUnsupervised learning is a type of machine learning in which models are trained using unlabeled dataset and are allowed to act on that data without any supervision.\\n\\nUnsupervised learning cannot be directly applied to a regression or classification problem because unlike supervised learning,\\nwe have the input data but no corresponding output data. The goal of unsupervised learning is to find the underlying structure of dataset,\\ngroup that data according to similarities, and represent that dataset in a compressed format.'"
            ],
            "application/vnd.google.colaboratory.intrinsic+json": {
              "type": "string"
            }
          },
          "metadata": {},
          "execution_count": 9
        }
      ]
    },
    {
      "cell_type": "code",
      "source": [
        "# Q4: What is the deifference between AI, ML, DL, and DS?\n",
        "'''\n",
        "AI is a computer algorithm which exhibits intelligence through decision making.\n",
        "\n",
        "ML is an AI algorithm which allows system to learn from data.\n",
        "\n",
        "DL is a ML algorithm that uses deep(more than one layer) neural networks to analyze data and provide output accordingly.\n",
        "\n",
        "Data science is the study of data to extract meaningful insights for business.\n",
        "It is a multidisciplinary approach that combines principles and practices from the fields of mathematics, statistics,\n",
        "artificial intelligence, and computer engineering to analyze large amounts of data.\n",
        "This analysis helps data scientists to ask and answer questions like what happened, why it happened, what will happen, and what can be done with the results.'''"
      ],
      "metadata": {
        "id": "XKssFcn6OUAv",
        "colab": {
          "base_uri": "https://localhost:8080/",
          "height": 105
        },
        "outputId": "7824fd01-4d6f-418b-9964-4fe6c783d19f"
      },
      "execution_count": 10,
      "outputs": [
        {
          "output_type": "execute_result",
          "data": {
            "text/plain": [
              "'\\nAI is a computer algorithm which exhibits intelligence through decision making.\\n\\nML is an AI algorithm which allows system to learn from data.\\n\\nDL is a ML algorithm that uses deep(more than one layer) neural networks to analyze data and provide output accordingly.\\n\\nData science is the study of data to extract meaningful insights for business.\\nIt is a multidisciplinary approach that combines principles and practices from the fields of mathematics, statistics,\\nartificial intelligence, and computer engineering to analyze large amounts of data.\\nThis analysis helps data scientists to ask and answer questions like what happened, why it happened, what will happen, and what can be done with the results.'"
            ],
            "application/vnd.google.colaboratory.intrinsic+json": {
              "type": "string"
            }
          },
          "metadata": {},
          "execution_count": 10
        }
      ]
    },
    {
      "cell_type": "code",
      "source": [
        "# Q5: What are the main difference between supervised, unsupervised, and semi-supervised learning?\n",
        "'''\n",
        "Supervised learning aims to learn a function that, given a sample of data and desired outputs, approximates a function that maps inputs to outputs.\n",
        "Semi-supervised learning aims to label unlabeled data points using knowledge learned from a small number of labeled data points.\n",
        "Unsupervised learning does not have (or need) any labeled outputs, so its goal is to infer the natural structure present within a set of data points.'''\n"
      ],
      "metadata": {
        "id": "YGSoQXYtPTMJ",
        "colab": {
          "base_uri": "https://localhost:8080/",
          "height": 70
        },
        "outputId": "5754633b-f8a3-4e62-bf1e-4d408210160c"
      },
      "execution_count": 12,
      "outputs": [
        {
          "output_type": "execute_result",
          "data": {
            "text/plain": [
              "'\\nSupervised learning aims to learn a function that, given a sample of data and desired outputs, approximates a function that maps inputs to outputs.\\nSemi-supervised learning aims to label unlabeled data points using knowledge learned from a small number of labeled data points.\\nUnsupervised learning does not have (or need) any labeled outputs, so its goal is to infer the natural structure present within a set of data points.'"
            ],
            "application/vnd.google.colaboratory.intrinsic+json": {
              "type": "string"
            }
          },
          "metadata": {},
          "execution_count": 12
        }
      ]
    },
    {
      "cell_type": "code",
      "source": [
        "# Q6- What is train, test and validation split? Explain the importancK of each term.\n",
        "'''Train Dataset\n",
        "Set of data used for learning (by the model), that is, to fit the parameters to the machine learning model\n",
        "Valid Dataset\n",
        "Set of data used to provide an unbiased evaluation of a model fitted on the training dataset while tuning model hyperparameters.\n",
        "Also play a role in other forms of model preparation, such as feature selection, threshold cut-off selection.\n",
        "Test Dataset\n",
        "Set of data used to provide an unbiased evaluation of a final model fitted on the training dataset.\n",
        "'''"
      ],
      "metadata": {
        "colab": {
          "base_uri": "https://localhost:8080/",
          "height": 87
        },
        "id": "yNzfUx2wDuKD",
        "outputId": "830f2389-2bb0-427d-d433-5f8f3c1596bc"
      },
      "execution_count": 13,
      "outputs": [
        {
          "output_type": "execute_result",
          "data": {
            "text/plain": [
              "'Train Dataset\\nSet of data used for learning (by the model), that is, to fit the parameters to the machine learning model\\nValid Dataset\\nSet of data used to provide an unbiased evaluation of a model fitted on the training dataset while tuning model hyperparameters.\\nAlso play a role in other forms of model preparation, such as feature selection, threshold cut-off selection.\\nTest Dataset\\nSet of data used to provide an unbiased evaluation of a final model fitted on the training dataset.\\n'"
            ],
            "application/vnd.google.colaboratory.intrinsic+json": {
              "type": "string"
            }
          },
          "metadata": {},
          "execution_count": 13
        }
      ]
    },
    {
      "cell_type": "code",
      "source": [
        "# Q7: How can unsupervised learning be used in anomaly detection?\n",
        "'''Anomaly detection techniques of unsupervised nature assume that normal data points occur considerably more frequently than anomalous data points.\n",
        "This assumption is used to classify data points that occur less frequently as anomalies.\n",
        "Unsupervised techniques assign each data point a score instead of a label.'''\n"
      ],
      "metadata": {
        "colab": {
          "base_uri": "https://localhost:8080/",
          "height": 53
        },
        "id": "xQjOnpbxEWMD",
        "outputId": "2adcbc59-14d2-4df8-8f00-db481d9e1b83"
      },
      "execution_count": 14,
      "outputs": [
        {
          "output_type": "execute_result",
          "data": {
            "text/plain": [
              "'Anomaly detection techniques of unsupervised nature assume that normal data points occur considerably more frequently than anomalous data points. \\nThis assumption is used to classify data points that occur less frequently as anomalies.\\nUnsupervised techniques assign each data point a score instead of a label.'"
            ],
            "application/vnd.google.colaboratory.intrinsic+json": {
              "type": "string"
            }
          },
          "metadata": {},
          "execution_count": 14
        }
      ]
    },
    {
      "cell_type": "code",
      "source": [
        "# Q8: List down some commonly used supervised learning algorithms and unsupervised learning algorithms.\n",
        "'''\n",
        "supervised learning algorithms:\n",
        "  Decision Trees\n",
        "  Support Vector Machines\n",
        "  Random Forests\n",
        "  Naive Bayes\n",
        "  KNN\n",
        "\n",
        "unsupervised learning algorithms:\n",
        "  K-means cluster analysis\n",
        "  Hierarchical clustering\n",
        "  PCA\n",
        "  Dimensionality Reduction Methods like PCA and t-SNE\n",
        "  '''"
      ],
      "metadata": {
        "colab": {
          "base_uri": "https://localhost:8080/",
          "height": 53
        },
        "id": "sDd4fAo6FHSe",
        "outputId": "8b621fea-5aa5-4466-cc9b-9e4c69fbdbac"
      },
      "execution_count": 16,
      "outputs": [
        {
          "output_type": "execute_result",
          "data": {
            "text/plain": [
              "'\\nsupervised learning algorithms:\\n  Decision Trees\\n  Support Vector Machines\\n  Random Forests\\n  Naive Bayes\\n  KNN\\n\\nunsupervised learning algorithms:\\n  K-means cluster analysis\\n  Hierarchical clustering\\n  PCA\\n  Dimensionality Reduction Methods like PCA and t-SNE\\n  '"
            ],
            "application/vnd.google.colaboratory.intrinsic+json": {
              "type": "string"
            }
          },
          "metadata": {},
          "execution_count": 16
        }
      ]
    },
    {
      "cell_type": "code",
      "source": [],
      "metadata": {
        "id": "M6tJW1XrKkzi"
      },
      "execution_count": null,
      "outputs": []
    }
  ]
}